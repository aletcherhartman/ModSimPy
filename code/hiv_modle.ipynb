{
 "cells": [
  {
   "cell_type": "markdown",
   "metadata": {},
   "source": [
    "# HIV Model\n",
    "\n",
    "Anna Letcher Hartman\n",
    "\n"
   ]
  },
  {
   "cell_type": "code",
   "execution_count": 1,
   "metadata": {},
   "outputs": [],
   "source": [
    "# Configure Jupyter so figures appear in the notebook\n",
    "%matplotlib inline\n",
    "\n",
    "# Configure Jupyter to display the assigned value after an assignment\n",
    "%config InteractiveShell.ast_node_interactivity='last_expr_or_assign'\n",
    "\n",
    "# import functions from the modsim.py module\n",
    "from modsim import *"
   ]
  },
  {
   "cell_type": "markdown",
   "metadata": {},
   "source": [
    "# AHHHHH\n"
   ]
  },
  {
   "cell_type": "code",
   "execution_count": 2,
   "metadata": {},
   "outputs": [
    {
     "data": {
      "text/html": [
       "<div>\n",
       "<style scoped>\n",
       "    .dataframe tbody tr th:only-of-type {\n",
       "        vertical-align: middle;\n",
       "    }\n",
       "\n",
       "    .dataframe tbody tr th {\n",
       "        vertical-align: top;\n",
       "    }\n",
       "\n",
       "    .dataframe thead th {\n",
       "        text-align: right;\n",
       "    }\n",
       "</style>\n",
       "<table border=\"1\" class=\"dataframe\">\n",
       "  <thead>\n",
       "    <tr style=\"text-align: right;\">\n",
       "      <th></th>\n",
       "      <th>values</th>\n",
       "    </tr>\n",
       "  </thead>\n",
       "  <tbody>\n",
       "    <tr>\n",
       "      <th>R</th>\n",
       "      <td>2.000000e+02</td>\n",
       "    </tr>\n",
       "    <tr>\n",
       "      <th>L</th>\n",
       "      <td>0.000000e+00</td>\n",
       "    </tr>\n",
       "    <tr>\n",
       "      <th>E</th>\n",
       "      <td>0.000000e+00</td>\n",
       "    </tr>\n",
       "    <tr>\n",
       "      <th>V</th>\n",
       "      <td>4.000000e-07</td>\n",
       "    </tr>\n",
       "  </tbody>\n",
       "</table>\n",
       "</div>"
      ],
      "text/plain": [
       "R    2.000000e+02\n",
       "L    0.000000e+00\n",
       "E    0.000000e+00\n",
       "V    4.000000e-07\n",
       "dtype: float64"
      ]
     },
     "execution_count": 2,
     "metadata": {},
     "output_type": "execute_result"
    }
   ],
   "source": [
    "state = State(R=200,L=0,E=0,V=4e-7) \n",
    "init = state\n",
    "init\n",
    "#r= uninfected linfocites, l=latently enfected, E =activly infected, V= free vireons"
   ]
  },
  {
   "cell_type": "code",
   "execution_count": 3,
   "metadata": {},
   "outputs": [
    {
     "data": {
      "text/html": [
       "<div>\n",
       "<style scoped>\n",
       "    .dataframe tbody tr th:only-of-type {\n",
       "        vertical-align: middle;\n",
       "    }\n",
       "\n",
       "    .dataframe tbody tr th {\n",
       "        vertical-align: top;\n",
       "    }\n",
       "\n",
       "    .dataframe thead th {\n",
       "        text-align: right;\n",
       "    }\n",
       "</style>\n",
       "<table border=\"1\" class=\"dataframe\">\n",
       "  <thead>\n",
       "    <tr style=\"text-align: right;\">\n",
       "      <th></th>\n",
       "      <th>values</th>\n",
       "    </tr>\n",
       "  </thead>\n",
       "  <tbody>\n",
       "    <tr>\n",
       "      <th>Γ</th>\n",
       "      <td>1.36000</td>\n",
       "    </tr>\n",
       "    <tr>\n",
       "      <th>μ</th>\n",
       "      <td>0.00136</td>\n",
       "    </tr>\n",
       "    <tr>\n",
       "      <th>τ</th>\n",
       "      <td>0.20000</td>\n",
       "    </tr>\n",
       "    <tr>\n",
       "      <th>β</th>\n",
       "      <td>0.00027</td>\n",
       "    </tr>\n",
       "    <tr>\n",
       "      <th>ρ</th>\n",
       "      <td>0.10000</td>\n",
       "    </tr>\n",
       "    <tr>\n",
       "      <th>α</th>\n",
       "      <td>0.03600</td>\n",
       "    </tr>\n",
       "    <tr>\n",
       "      <th>σ</th>\n",
       "      <td>2.00000</td>\n",
       "    </tr>\n",
       "    <tr>\n",
       "      <th>δ</th>\n",
       "      <td>0.33000</td>\n",
       "    </tr>\n",
       "    <tr>\n",
       "      <th>π</th>\n",
       "      <td>100.00000</td>\n",
       "    </tr>\n",
       "    <tr>\n",
       "      <th>t0</th>\n",
       "      <td>0.00000</td>\n",
       "    </tr>\n",
       "    <tr>\n",
       "      <th>t_end</th>\n",
       "      <td>100.00000</td>\n",
       "    </tr>\n",
       "    <tr>\n",
       "      <th>dt</th>\n",
       "      <td>0.25000</td>\n",
       "    </tr>\n",
       "  </tbody>\n",
       "</table>\n",
       "</div>"
      ],
      "text/plain": [
       "Γ          1.36000\n",
       "μ          0.00136\n",
       "τ          0.20000\n",
       "β          0.00027\n",
       "ρ          0.10000\n",
       "α          0.03600\n",
       "σ          2.00000\n",
       "δ          0.33000\n",
       "π        100.00000\n",
       "t0         0.00000\n",
       "t_end    100.00000\n",
       "dt         0.25000\n",
       "dtype: float64"
      ]
     },
     "execution_count": 3,
     "metadata": {},
     "output_type": "execute_result"
    }
   ],
   "source": [
    "system = System(Γ = 1.36, # rate at witch uninfected linfosytes arise\n",
    "                μ = 0.00136, # natural Death of uninfected linphosyts\n",
    "                τ = 0.2, # proportion of cells activated\n",
    "                β = 0.00027, # rate of infaction per virion\n",
    "                ρ = 0.1, # proportion of cells becoming latently infected apon infection\n",
    "                α = 0.036, # activation rate of latently infected cells\n",
    "                σ = 2, # removal rate of cell fre virus\n",
    "                δ = 0.33,# death rate of activly infected cells\n",
    "                π = 100, # rate of production of virions by active cell\n",
    "                t0 = 0,\n",
    "                t_end = 100,\n",
    "                dt = 0.25\n",
    "               )\n"
   ]
  },
  {
   "cell_type": "code",
   "execution_count": 4,
   "metadata": {},
   "outputs": [],
   "source": [
    "def update(state,t, system):\n",
    "\n",
    "    r, l, e, v = state\n",
    "\n",
    "    unpack(system)\n",
    "\n",
    "    #functions from paper\n",
    "    drdt = (Γ*τ) - (μ*r) - (β*r*v)\n",
    "\n",
    "    dldt = (ρ*β*r*v) - (μ*l) - (α*l)\n",
    "\n",
    "    dedt = (1-ρ) * (β*r*v) + (α*l) - (δ*e)\n",
    "\n",
    "    dvdt = (π*e) - (σ*v)\n",
    "\n",
    "    r += drdt*dt\n",
    "\n",
    "    l += dldt*dt\n",
    "\n",
    "    e += dedt*dt\n",
    "\n",
    "    v += dvdt*dt\n",
    "\n",
    "   \n",
    "\n",
    "    return State(R=r, L=l, E=e, V=v)"
   ]
  },
  {
   "cell_type": "code",
   "execution_count": 5,
   "metadata": {},
   "outputs": [],
   "source": [
    "def run_simulation(system, update_func):\n",
    "    \"\"\"Runs a simulation of the system.\n",
    "        \n",
    "    system: System object\n",
    "    update_func: function that updates state\n",
    "    \n",
    "    returns: TimeFrame\n",
    "    \"\"\"\n",
    "    unpack(system)\n",
    "    \n",
    "    frame = TimeFrame(columns=init.index)\n",
    "    frame.row[t0] = init\n",
    "    \n",
    "    for t in linrange(t0, t_end, dt):\n",
    "        #print(t+dt)\n",
    "        frame.row[t+dt] = update_func(frame.row[t], t, system)\n",
    "    \n",
    "    return frame"
   ]
  },
  {
   "cell_type": "code",
   "execution_count": 6,
   "metadata": {},
   "outputs": [
    {
     "data": {
      "text/html": [
       "<div>\n",
       "<style scoped>\n",
       "    .dataframe tbody tr th:only-of-type {\n",
       "        vertical-align: middle;\n",
       "    }\n",
       "\n",
       "    .dataframe tbody tr th {\n",
       "        vertical-align: top;\n",
       "    }\n",
       "\n",
       "    .dataframe thead th {\n",
       "        text-align: right;\n",
       "    }\n",
       "</style>\n",
       "<table border=\"1\" class=\"dataframe\">\n",
       "  <thead>\n",
       "    <tr style=\"text-align: right;\">\n",
       "      <th></th>\n",
       "      <th>values</th>\n",
       "    </tr>\n",
       "  </thead>\n",
       "  <tbody>\n",
       "    <tr>\n",
       "      <th>R</th>\n",
       "      <td>2.000000e+02</td>\n",
       "    </tr>\n",
       "    <tr>\n",
       "      <th>L</th>\n",
       "      <td>5.400000e-10</td>\n",
       "    </tr>\n",
       "    <tr>\n",
       "      <th>E</th>\n",
       "      <td>4.860000e-09</td>\n",
       "    </tr>\n",
       "    <tr>\n",
       "      <th>V</th>\n",
       "      <td>2.000000e-07</td>\n",
       "    </tr>\n",
       "  </tbody>\n",
       "</table>\n",
       "</div>"
      ],
      "text/plain": [
       "R    2.000000e+02\n",
       "L    5.400000e-10\n",
       "E    4.860000e-09\n",
       "V    2.000000e-07\n",
       "dtype: float64"
      ]
     },
     "execution_count": 6,
     "metadata": {},
     "output_type": "execute_result"
    }
   ],
   "source": [
    "#t=1\n",
    "update(state,0, system)\n"
   ]
  },
  {
   "cell_type": "code",
   "execution_count": 7,
   "metadata": {
    "scrolled": true
   },
   "outputs": [
    {
     "name": "stdout",
     "output_type": "stream",
     "text": [
      "                 R             L             E             V\n",
      "0.00    200.000000  0.000000e+00  0.000000e+00  4.000000e-07\n",
      "0.25    200.000000  5.400000e-10  4.860000e-09  2.000000e-07\n",
      "0.50    200.000000  8.049564e-10  6.893910e-09  2.215000e-07\n",
      "0.75    200.000000  1.096463e-09  9.023632e-09  2.830977e-07\n",
      "1.00    200.000000  1.468404e-09  1.172869e-08  3.671397e-07\n",
      "1.25    200.000000  1.950328e-09  1.523503e-08  4.767870e-07\n",
      "1.50    200.000000  2.575774e-09  1.978866e-08  6.192694e-07\n",
      "1.75    200.000000  3.387730e-09  2.570340e-08  8.043512e-07\n",
      "2.00    200.000000  4.441963e-09  3.338623e-08  1.044761e-06\n",
      "2.25    200.000000  5.810902e-09  4.336568e-08  1.357036e-06\n",
      "2.50    200.000000  7.588626e-09  5.632830e-08  1.762660e-06\n",
      "2.75    200.000000  9.897340e-09  7.316583e-08  2.289537e-06\n",
      "3.00    200.000000  1.289577e-08  9.503660e-08  2.973914e-06\n",
      "3.25    200.000000  1.679011e-08  1.234452e-07  3.862872e-06\n",
      "3.50    200.000000  2.184817e-08  1.603460e-07  5.017566e-06\n",
      "3.75    200.000000  2.841782e-08  2.082775e-07  6.517433e-06\n",
      "4.00    200.000000  3.695093e-08  2.705372e-07  8.465654e-06\n",
      "4.25    200.000000  4.803445e-08  3.514081e-07  1.099626e-05\n",
      "4.50    199.999999  6.243075e-08  4.564538e-07  1.428333e-05\n",
      "4.75    199.999999  8.113014e-08  5.929007e-07  1.855301e-05\n",
      "5.00    199.999999  1.054190e-07  7.701356e-07  2.409902e-05\n",
      "5.25    199.999999  1.369680e-07  1.000351e-06  3.130290e-05\n",
      "5.50    199.999998  1.779477e-07  1.299385e-06  4.066023e-05\n",
      "5.75    199.999998  2.311769e-07  1.687809e-06  5.281475e-05\n",
      "6.00    199.999997  3.003177e-07  2.192345e-06  6.860261e-05\n",
      "6.25    199.999996  3.901262e-07  2.847701e-06  8.910993e-05\n",
      "6.50    199.999995  5.067808e-07  3.698962e-06  1.157475e-04\n",
      "6.75    199.999993  6.583066e-07  4.804691e-06  1.503478e-04\n",
      "7.00    199.999991  8.551275e-07  6.240954e-06  1.952912e-04\n",
      "7.25    199.999989  1.110784e-06  8.106560e-06  2.536695e-04\n",
      "...            ...           ...           ...           ...\n",
      "92.75    12.477452  1.637504e+00  3.765538e-01  1.902181e+01\n",
      "93.00    12.525189  1.623811e+00  3.746443e-01  1.892475e+01\n",
      "93.25    12.572930  1.610245e+00  3.727504e-01  1.882848e+01\n",
      "93.50    12.620676  1.596803e+00  3.708720e-01  1.873300e+01\n",
      "93.75    12.668427  1.583485e+00  3.690090e-01  1.863830e+01\n",
      "94.00    12.716181  1.570289e+00  3.671613e-01  1.854438e+01\n",
      "94.25    12.763940  1.557214e+00  3.653288e-01  1.845122e+01\n",
      "94.50    12.811704  1.544260e+00  3.635113e-01  1.835883e+01\n",
      "94.75    12.859471  1.531424e+00  3.617088e-01  1.826720e+01\n",
      "95.00    12.907243  1.518706e+00  3.599212e-01  1.817632e+01\n",
      "95.25    12.955018  1.506105e+00  3.581484e-01  1.808619e+01\n",
      "95.50    13.002798  1.493619e+00  3.563903e-01  1.799681e+01\n",
      "95.75    13.050581  1.481249e+00  3.546467e-01  1.790816e+01\n",
      "96.00    13.098369  1.468991e+00  3.529176e-01  1.782025e+01\n",
      "96.25    13.146160  1.456846e+00  3.512028e-01  1.773306e+01\n",
      "96.50    13.193954  1.444813e+00  3.495023e-01  1.764660e+01\n",
      "96.75    13.241752  1.432890e+00  3.478160e-01  1.756086e+01\n",
      "97.00    13.289554  1.421076e+00  3.461438e-01  1.747583e+01\n",
      "97.25    13.337359  1.409371e+00  3.444856e-01  1.739151e+01\n",
      "97.50    13.385167  1.397773e+00  3.428413e-01  1.730790e+01\n",
      "97.75    13.432979  1.386282e+00  3.412107e-01  1.722498e+01\n",
      "98.00    13.480793  1.374896e+00  3.395939e-01  1.714276e+01\n",
      "98.25    13.528610  1.363614e+00  3.379906e-01  1.706123e+01\n",
      "98.50    13.576431  1.352436e+00  3.364009e-01  1.698038e+01\n",
      "98.75    13.624254  1.341361e+00  3.348247e-01  1.690021e+01\n",
      "99.00    13.672079  1.330386e+00  3.332617e-01  1.682072e+01\n",
      "99.25    13.719908  1.319513e+00  3.317120e-01  1.674190e+01\n",
      "99.50    13.767738  1.308739e+00  3.301755e-01  1.666375e+01\n",
      "99.75    13.815571  1.298064e+00  3.286521e-01  1.658626e+01\n",
      "100.00   13.863406  1.287487e+00  3.271417e-01  1.650944e+01\n",
      "\n",
      "[401 rows x 4 columns]\n"
     ]
    },
    {
     "data": {
      "text/plain": [
       "<matplotlib.axes._subplots.AxesSubplot at 0x176ac073cc0>"
      ]
     },
     "execution_count": 7,
     "metadata": {},
     "output_type": "execute_result"
    },
    {
     "data": {
      "image/png": "[encoded data removed]",
      "text/plain": [
       "<Figure size 432x288 with 1 Axes>"
      ]
     },
     "metadata": {},
     "output_type": "display_data"
    }
   ],
   "source": [
    "results = run_simulation(system, update)\n",
    "print(results)\n",
    "results.plot()"
   ]
  },
  {
   "cell_type": "code",
   "execution_count": null,
   "metadata": {},
   "outputs": [],
   "source": []
  },
  {
   "cell_type": "code",
   "execution_count": null,
   "metadata": {},
   "outputs": [],
   "source": []
  },
  {
   "cell_type": "code",
   "execution_count": null,
   "metadata": {},
   "outputs": [],
   "source": []
  },
  {
   "cell_type": "code",
   "execution_count": null,
   "metadata": {},
   "outputs": [],
   "source": []
  }
 ],
 "metadata": {
  "kernelspec": {
   "display_name": "Python 3",
   "language": "python",
   "name": "python3"
  },
  "language_info": {
   "codemirror_mode": {
    "name": "ipython",
    "version": 3
   },
   "file_extension": ".py",
   "mimetype": "text/x-python",
   "name": "python",
   "nbconvert_exporter": "python",
   "pygments_lexer": "ipython3",
   "version": "3.6.5"
  }
 },
 "nbformat": 4,
 "nbformat_minor": 2
}
